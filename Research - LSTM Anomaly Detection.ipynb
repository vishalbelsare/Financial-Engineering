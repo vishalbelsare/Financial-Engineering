{
 "cells": [
  {
   "cell_type": "code",
   "execution_count": 30,
   "id": "e3e218f2",
   "metadata": {},
   "outputs": [],
   "source": [
    "import numpy as np\n",
    "import pandas as pd\n",
    "import keras\n",
    "import matplotlib.pyplot as plt"
   ]
  },
  {
   "cell_type": "code",
   "execution_count": 17,
   "id": "9b444795",
   "metadata": {},
   "outputs": [
    {
     "name": "stderr",
     "output_type": "stream",
     "text": [
      "C:\\Users\\Hindy\\AppData\\Local\\Temp\\ipykernel_13592\\332309790.py:1: DtypeWarning: Columns (16) have mixed types. Specify dtype option on import or set low_memory=False.\n",
      "  instrument = pd.read_csv('data1m/final/BTCUSD_1min.csv')\n"
     ]
    }
   ],
   "source": [
    "instrument = pd.read_csv('data1m/final/BTCUSD_1min.csv')\n",
    "instrument.drop('Unnamed: 0', axis=1, inplace=True)\n",
    "instrument['date'] = instrument['t'].apply(lambda x: str(x)[:10])\n",
    "instrument['t'] = instrument['t'].apply(lambda x: str(x)[11:])\n",
    "instrument['returns'] = instrument['c'].pct_change().shift(-1)\n",
    "instrument.drop_duplicates(inplace=True)"
   ]
  },
  {
   "cell_type": "code",
   "execution_count": 18,
   "id": "b80ba420",
   "metadata": {},
   "outputs": [],
   "source": [
    "df = list(instrument[['date', 't', 'c']].groupby('date'))\n",
    "\n",
    "df2 = []\n",
    "for d in [i[1] for i in df]:\n",
    "    d.index = pd.to_datetime(d['t'])\n",
    "    df2.append(d.drop_duplicates().resample('1min').ffill())\n",
    "    \n",
    "df = [d.drop('date', axis=1).set_index('t').sort_index() for d in df2]\n",
    "df = [d for d in df if d.shape[0] == 1440]\n",
    "df = np.vstack(df).reshape(-1, 1440, 1)"
   ]
  },
  {
   "cell_type": "code",
   "execution_count": 19,
   "id": "411cbe03",
   "metadata": {},
   "outputs": [],
   "source": [
    "N = int(len(df) * .7)\n",
    "train = df[:N].copy()\n",
    "test = df[N:].copy()"
   ]
  },
  {
   "cell_type": "code",
   "execution_count": 20,
   "id": "4793b87f",
   "metadata": {},
   "outputs": [],
   "source": [
    "y_train_ret = [(t[-1] - t[0])[0] for t in train]\n",
    "y_train = pd.Series(y_train_ret)\n",
    "y_train = np.where(y_train >= 0, 1, 0)"
   ]
  },
  {
   "cell_type": "code",
   "execution_count": 21,
   "id": "628f1fc0",
   "metadata": {},
   "outputs": [],
   "source": [
    "y_test_ret = [(t[-1] - t[0])[0] for t in test]\n",
    "y_test = pd.Series(y_test_ret)\n",
    "y_test = np.where(y_test >= 0, 1, 0)"
   ]
  },
  {
   "cell_type": "code",
   "execution_count": 22,
   "id": "50cf8ffc",
   "metadata": {},
   "outputs": [],
   "source": [
    "scaler = TimeSeriesScalerMeanVariance()\n",
    "scaler.fit(train)\n",
    "X_train = scaler.transform(train)\n",
    "X_test = scaler.transform(test)"
   ]
  },
  {
   "cell_type": "code",
   "execution_count": 23,
   "id": "1d63ab76",
   "metadata": {},
   "outputs": [],
   "source": [
    "X_train2 = pd.DataFrame(X_train.reshape(1122, 1440))\n",
    "X_test2 = pd.DataFrame(X_test.reshape(482, 1440))"
   ]
  },
  {
   "cell_type": "code",
   "execution_count": 26,
   "id": "fc04a43e",
   "metadata": {},
   "outputs": [],
   "source": [
    "model = keras.Sequential()\n",
    "model.add(keras.layers.LSTM(\n",
    "    units=64,\n",
    "    input_shape=(X_train.shape[1], X_train.shape[2])\n",
    "))\n",
    "model.add(keras.layers.Dropout(rate=0.2))\n",
    "model.add(keras.layers.RepeatVector(n=X_train.shape[1]))\n",
    "model.add(keras.layers.LSTM(units=64, return_sequences=True))\n",
    "model.add(keras.layers.Dropout(rate=0.2))\n",
    "model.add(\n",
    "  keras.layers.TimeDistributed(\n",
    "    keras.layers.Dense(units=X_train.shape[2])\n",
    "  )\n",
    ")\n",
    "model.compile(loss='mae', optimizer='adam')"
   ]
  },
  {
   "cell_type": "code",
   "execution_count": 27,
   "id": "1ae6288c",
   "metadata": {},
   "outputs": [
    {
     "name": "stdout",
     "output_type": "stream",
     "text": [
      "Epoch 1/10\n",
      "32/32 [==============================] - 32s 954ms/step - loss: 0.5326 - val_loss: 0.5018\n",
      "Epoch 2/10\n",
      "32/32 [==============================] - 33s 1s/step - loss: 0.4922 - val_loss: 0.4864\n",
      "Epoch 3/10\n",
      "32/32 [==============================] - 35s 1s/step - loss: 0.4772 - val_loss: 0.4652\n",
      "Epoch 4/10\n",
      "32/32 [==============================] - 34s 1s/step - loss: 0.4703 - val_loss: 0.4651\n",
      "Epoch 5/10\n",
      "32/32 [==============================] - 34s 1s/step - loss: 0.4671 - val_loss: 0.4618\n",
      "Epoch 6/10\n",
      "32/32 [==============================] - 34s 1s/step - loss: 0.4664 - val_loss: 0.4607\n",
      "Epoch 7/10\n",
      "32/32 [==============================] - 35s 1s/step - loss: 0.4654 - val_loss: 0.4604\n",
      "Epoch 8/10\n",
      "32/32 [==============================] - 35s 1s/step - loss: 0.4653 - val_loss: 0.4627\n",
      "Epoch 9/10\n",
      "32/32 [==============================] - 35s 1s/step - loss: 0.4664 - val_loss: 0.4676\n",
      "Epoch 10/10\n",
      "32/32 [==============================] - 35s 1s/step - loss: 0.4701 - val_loss: 0.4713\n"
     ]
    }
   ],
   "source": [
    "history = model.fit(\n",
    "    X_train, y_train,\n",
    "    epochs=10,\n",
    "    batch_size=32,\n",
    "    validation_split=0.1,\n",
    "    shuffle=False\n",
    ")\n"
   ]
  },
  {
   "cell_type": "code",
   "execution_count": 40,
   "id": "1ee08b84",
   "metadata": {},
   "outputs": [
    {
     "data": {
      "text/plain": [
       "'loss'"
      ]
     },
     "execution_count": 40,
     "metadata": {},
     "output_type": "execute_result"
    }
   ],
   "source": [
    "list(history.history.items())[0][0]"
   ]
  },
  {
   "cell_type": "code",
   "execution_count": 41,
   "id": "cf1894c1",
   "metadata": {},
   "outputs": [
    {
     "data": {
      "text/plain": [
       "<matplotlib.legend.Legend at 0x2264ebc6910>"
      ]
     },
     "execution_count": 41,
     "metadata": {},
     "output_type": "execute_result"
    },
    {
     "data": {
      "image/png": "[encoded data removed]",
      "text/plain": [
       "<Figure size 432x288 with 1 Axes>"
      ]
     },
     "metadata": {
      "needs_background": "light"
     },
     "output_type": "display_data"
    }
   ],
   "source": [
    "plt.plot(list(history.history.items())[0][1])\n",
    "plt.plot(list(history.history.items())[1][1])\n",
    "plt.legend(['loss', 'val_loss'])"
   ]
  },
  {
   "cell_type": "code",
   "execution_count": 42,
   "id": "a99b2430",
   "metadata": {},
   "outputs": [],
   "source": [
    "X_train_pred = model.predict(X_train)\n",
    "train_mae_loss = np.mean(np.abs(X_train_pred - X_train), axis=1)"
   ]
  },
  {
   "cell_type": "code",
   "execution_count": 48,
   "id": "16700c91",
   "metadata": {},
   "outputs": [
    {
     "data": {
      "image/png": "[encoded data removed]",
      "text/plain": [
       "<Figure size 432x288 with 1 Axes>"
      ]
     },
     "metadata": {
      "needs_background": "light"
     },
     "output_type": "display_data"
    }
   ],
   "source": [
    "plt.hist(train_mae_loss)\n",
    "plt.show()"
   ]
  },
  {
   "cell_type": "code",
   "execution_count": 49,
   "id": "e47b6845",
   "metadata": {},
   "outputs": [
    {
     "data": {
      "text/plain": [
       "0.09743186973957113"
      ]
     },
     "execution_count": 49,
     "metadata": {},
     "output_type": "execute_result"
    }
   ],
   "source": [
    "train_mae_loss.std()"
   ]
  },
  {
   "cell_type": "code",
   "execution_count": 46,
   "id": "6101314a",
   "metadata": {},
   "outputs": [],
   "source": [
    "X_test_pred = model.predict(X_test)\n",
    "test_mae_loss = np.mean(np.abs(X_test_pred - X_test), axis=1)"
   ]
  },
  {
   "cell_type": "code",
   "execution_count": 62,
   "id": "a48df173",
   "metadata": {},
   "outputs": [
    {
     "data": {
      "text/plain": [
       "(1122, 1440, 1)"
      ]
     },
     "execution_count": 62,
     "metadata": {},
     "output_type": "execute_result"
    }
   ],
   "source": [
    "X_train.shape"
   ]
  },
  {
   "cell_type": "code",
   "execution_count": 71,
   "id": "0164295f",
   "metadata": {},
   "outputs": [
    {
     "data": {
      "text/plain": [
       "(1604, 1440)"
      ]
     },
     "execution_count": 71,
     "metadata": {},
     "output_type": "execute_result"
    }
   ],
   "source": [
    "np.vstack([X_train.reshape(1122, 1440), X_test.reshape(482, 1440)]).shape"
   ]
  },
  {
   "cell_type": "code",
   "execution_count": 75,
   "id": "464f0c9d",
   "metadata": {},
   "outputs": [
    {
     "data": {
      "text/plain": [
       "(2309760, 1)"
      ]
     },
     "execution_count": 75,
     "metadata": {},
     "output_type": "execute_result"
    }
   ],
   "source": [
    "df.reshape(1604 * 1440, -1).shape"
   ]
  },
  {
   "cell_type": "code",
   "execution_count": 78,
   "id": "26a361a9",
   "metadata": {},
   "outputs": [
    {
     "data": {
      "text/plain": [
       "(1122, 1)"
      ]
     },
     "execution_count": 78,
     "metadata": {},
     "output_type": "execute_result"
    }
   ],
   "source": [
    "(train_mae_loss > .65).shape"
   ]
  },
  {
   "cell_type": "code",
   "execution_count": 77,
   "id": "0a83f74b",
   "metadata": {
    "scrolled": true
   },
   "outputs": [
    {
     "data": {
      "text/plain": [
       "(482, 1)"
      ]
     },
     "execution_count": 77,
     "metadata": {},
     "output_type": "execute_result"
    }
   ],
   "source": [
    "(test_mae_loss > .65).shape"
   ]
  },
  {
   "cell_type": "code",
   "execution_count": 91,
   "id": "678bbd98",
   "metadata": {},
   "outputs": [
    {
     "data": {
      "text/plain": [
       "694080"
      ]
     },
     "execution_count": 91,
     "metadata": {},
     "output_type": "execute_result"
    }
   ],
   "source": [
    "482 * 1440"
   ]
  },
  {
   "cell_type": "code",
   "execution_count": 100,
   "id": "2e4279d2",
   "metadata": {},
   "outputs": [],
   "source": [
    "autoencode_df = np.vstack([np.vstack([train_mae_loss for _ in range(1440)]), np.vstack([test_mae_loss for _ in range(1440)])])"
   ]
  },
  {
   "cell_type": "code",
   "execution_count": 142,
   "id": "44f1a8a8",
   "metadata": {},
   "outputs": [
    {
     "data": {
      "text/plain": [
       "(1152000,)"
      ]
     },
     "execution_count": 142,
     "metadata": {},
     "output_type": "execute_result"
    }
   ],
   "source": [
    "df.reshape(1604 * 1440)[autoencode_df.reshape(1604 * 1440) > .99].shape"
   ]
  },
  {
   "cell_type": "code",
   "execution_count": 136,
   "id": "2c39b25f",
   "metadata": {},
   "outputs": [
    {
     "data": {
      "text/plain": [
       "array([      0,       1,       2, ..., 2309756, 2309757, 2309758])"
      ]
     },
     "execution_count": 136,
     "metadata": {},
     "output_type": "execute_result"
    }
   ],
   "source": [
    "np.arange(1604 * 1440)[autoencode_df.reshape(1604 * 1440) > .9]"
   ]
  },
  {
   "cell_type": "code",
   "execution_count": 131,
   "id": "c49310ed",
   "metadata": {},
   "outputs": [
    {
     "data": {
      "text/plain": [
       "range(0, 2309760)"
      ]
     },
     "execution_count": 131,
     "metadata": {},
     "output_type": "execute_result"
    }
   ],
   "source": [
    "range(1604 * 1440)"
   ]
  },
  {
   "cell_type": "code",
   "execution_count": 138,
   "id": "4af6e75e",
   "metadata": {},
   "outputs": [
    {
     "data": {
      "text/plain": [
       "<matplotlib.collections.PathCollection at 0x2265453fe80>"
      ]
     },
     "execution_count": 138,
     "metadata": {},
     "output_type": "execute_result"
    },
    {
     "data": {
      "image/png": "[encoded data removed]",
      "text/plain": [
       "<Figure size 432x288 with 1 Axes>"
      ]
     },
     "metadata": {
      "needs_background": "light"
     },
     "output_type": "display_data"
    }
   ],
   "source": [
    "plt.plot(df.reshape(1604 * 1440))\n",
    "plt.scatter(np.arange(1604 * 1440)[autoencode_df.reshape(1604 * 1440) > .99], df.reshape(1604 * 1440)[autoencode_df.reshape(1604 * 1440) > .99], color='red')"
   ]
  },
  {
   "cell_type": "code",
   "execution_count": 116,
   "id": "4ad70aa1",
   "metadata": {},
   "outputs": [
    {
     "data": {
      "text/plain": [
       "(2309760,)"
      ]
     },
     "execution_count": 116,
     "metadata": {},
     "output_type": "execute_result"
    }
   ],
   "source": [
    "df.reshape(1604 * 1440).shape"
   ]
  }
 ],
 "metadata": {
  "kernelspec": {
   "display_name": "Python 3 (ipykernel)",
   "language": "python",
   "name": "python3"
  },
  "language_info": {
   "codemirror_mode": {
    "name": "ipython",
    "version": 3
   },
   "file_extension": ".py",
   "mimetype": "text/x-python",
   "name": "python",
   "nbconvert_exporter": "python",
   "pygments_lexer": "ipython3",
   "version": "3.9.7"
  }
 },
 "nbformat": 4,
 "nbformat_minor": 5
}
