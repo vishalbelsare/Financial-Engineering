{
 "cells": [
  {
   "cell_type": "code",
   "execution_count": 1,
   "id": "02938213",
   "metadata": {},
   "outputs": [],
   "source": [
    "import pandas as pd\n",
    "import numpy as np\n",
    "from sklearn.preprocessing import StandardScaler\n",
    "from sklearn.decomposition import PCA, KernelPCA\n",
    "from lightgbm import LGBMClassifier\n",
    "from xgboost import XGBClassifier\n",
    "from sklearn.linear_model import LogisticRegression\n",
    "from sklearn.tree import DecisionTreeClassifier\n",
    "from sklearn.ensemble import RandomForestClassifier\n",
    "import matplotlib.pyplot as plt\n",
    "import seaborn as sns\n",
    "from joblib import Parallel, delayed"
   ]
  },
  {
   "cell_type": "code",
   "execution_count": 2,
   "id": "58fbb26c",
   "metadata": {},
   "outputs": [],
   "source": [
    "df = pd.read_csv('historical_bar_daily.csv')\n",
    "econstats = pd.read_csv('econstats.csv')"
   ]
  },
  {
   "cell_type": "code",
   "execution_count": 3,
   "id": "83bc9222",
   "metadata": {},
   "outputs": [],
   "source": [
    "for s in df.symbol.unique():\n",
    "    globals()[s] = df[df['symbol'] == s].copy()\n",
    "    globals()[s].drop(['ab', 'bb', 'expiry', 'right', 'strike', 'instrument'], axis=1, inplace=True)\n",
    "    for f in globals()[s].columns:\n",
    "        if f not in ['symbol', 't']:\n",
    "            globals()[s][f\"{f}_lag1\"] = globals()[s][f].shift(1)\n",
    "            \n",
    "    globals()[s]['date'] = globals()[s]['t'].apply(lambda x: str(x)[:10])\n",
    "    globals()[s]['return'] = globals()[s]['c'].pct_change(1)\n",
    "    globals()[s].drop(['a', 'b', 'c', 'h', 'l', 'm', 'o', 'symbol', 't', 'v'], axis=1, inplace=True)"
   ]
  },
  {
   "cell_type": "code",
   "execution_count": 4,
   "id": "e3709365",
   "metadata": {},
   "outputs": [],
   "source": [
    "for e in econstats.series_id.unique():\n",
    "    globals()[e] = econstats[econstats['series_id'] == e].copy()\n",
    "    globals()[e].rename(columns={'value':f'{e}_value'}, inplace=True)"
   ]
  },
  {
   "cell_type": "code",
   "execution_count": 5,
   "id": "54c56da6",
   "metadata": {},
   "outputs": [],
   "source": [
    "econstats_series_id2 = []\n",
    "for e in econstats.series_id.unique():\n",
    "    if globals()[e].shape[0] == 47:\n",
    "        if globals()[e][f'{e}_value'].isnull().sum() == 0:\n",
    "            econstats_series_id2.append(e)"
   ]
  },
  {
   "cell_type": "code",
   "execution_count": 6,
   "id": "dc7e0e32",
   "metadata": {},
   "outputs": [],
   "source": [
    "for e in econstats_series_id2:\n",
    "    BTCUSD = pd.merge(\n",
    "        BTCUSD, \n",
    "        globals()[e].drop(['series_id', 'date'], axis=1).rename(columns={'release_date':'date'}), \n",
    "        on='date',\n",
    "        how='left'\n",
    "    )\n",
    "    \n",
    "BTCUSD.fillna(method='ffill', inplace=True)\n",
    "BTCUSD[BTCUSD.columns[10:]] = BTCUSD[BTCUSD.columns[10:]].shift(1)\n",
    "BTCUSD.dropna(inplace=True)"
   ]
  },
  {
   "cell_type": "code",
   "execution_count": 7,
   "id": "0ccaf47f",
   "metadata": {},
   "outputs": [
    {
     "data": {
      "text/html": [
       "<div>\n",
       "<style scoped>\n",
       "    .dataframe tbody tr th:only-of-type {\n",
       "        vertical-align: middle;\n",
       "    }\n",
       "\n",
       "    .dataframe tbody tr th {\n",
       "        vertical-align: top;\n",
       "    }\n",
       "\n",
       "    .dataframe thead th {\n",
       "        text-align: right;\n",
       "    }\n",
       "</style>\n",
       "<table border=\"1\" class=\"dataframe\">\n",
       "  <thead>\n",
       "    <tr style=\"text-align: right;\">\n",
       "      <th></th>\n",
       "      <th>a_lag1</th>\n",
       "      <th>b_lag1</th>\n",
       "      <th>c_lag1</th>\n",
       "      <th>h_lag1</th>\n",
       "      <th>l_lag1</th>\n",
       "      <th>m_lag1</th>\n",
       "      <th>o_lag1</th>\n",
       "      <th>v_lag1</th>\n",
       "      <th>date</th>\n",
       "      <th>return</th>\n",
       "      <th>...</th>\n",
       "      <th>BALT524BP1FHSA_value</th>\n",
       "      <th>BALT524BPPRIV_value</th>\n",
       "      <th>BALT524BPPRIVSA_value</th>\n",
       "      <th>BALT524FIRE_value</th>\n",
       "      <th>BALT524INFON_value</th>\n",
       "      <th>BALT524LF_value</th>\n",
       "      <th>BALT524MFG_value</th>\n",
       "      <th>BALT524NAN_value</th>\n",
       "      <th>BALT524TRADN_value</th>\n",
       "      <th>BALT524UR_value</th>\n",
       "    </tr>\n",
       "  </thead>\n",
       "  <tbody>\n",
       "    <tr>\n",
       "      <th>60</th>\n",
       "      <td>1193.7</td>\n",
       "      <td>1181.9</td>\n",
       "      <td>1187.8</td>\n",
       "      <td>1192.1</td>\n",
       "      <td>1181.5</td>\n",
       "      <td>1187.8</td>\n",
       "      <td>1181.9</td>\n",
       "      <td>2491.0</td>\n",
       "      <td>2017-03-01</td>\n",
       "      <td>0.000000</td>\n",
       "      <td>...</td>\n",
       "      <td>423.719798</td>\n",
       "      <td>475.0</td>\n",
       "      <td>523.328065</td>\n",
       "      <td>80.270569</td>\n",
       "      <td>17.3</td>\n",
       "      <td>1494399.0</td>\n",
       "      <td>55.928772</td>\n",
       "      <td>1366.8</td>\n",
       "      <td>244.8</td>\n",
       "      <td>4.3</td>\n",
       "    </tr>\n",
       "    <tr>\n",
       "      <th>61</th>\n",
       "      <td>1193.7</td>\n",
       "      <td>1181.9</td>\n",
       "      <td>1187.8</td>\n",
       "      <td>1192.1</td>\n",
       "      <td>1181.5</td>\n",
       "      <td>1187.8</td>\n",
       "      <td>1181.9</td>\n",
       "      <td>2491.0</td>\n",
       "      <td>2017-03-03</td>\n",
       "      <td>0.035023</td>\n",
       "      <td>...</td>\n",
       "      <td>423.719798</td>\n",
       "      <td>475.0</td>\n",
       "      <td>523.328065</td>\n",
       "      <td>80.270569</td>\n",
       "      <td>17.3</td>\n",
       "      <td>1494399.0</td>\n",
       "      <td>55.928772</td>\n",
       "      <td>1366.8</td>\n",
       "      <td>244.8</td>\n",
       "      <td>4.3</td>\n",
       "    </tr>\n",
       "    <tr>\n",
       "      <th>62</th>\n",
       "      <td>1235.5</td>\n",
       "      <td>1223.3</td>\n",
       "      <td>1229.4</td>\n",
       "      <td>1229.5</td>\n",
       "      <td>1190.7</td>\n",
       "      <td>1229.4</td>\n",
       "      <td>1187.8</td>\n",
       "      <td>10079.0</td>\n",
       "      <td>2017-03-04</td>\n",
       "      <td>0.024890</td>\n",
       "      <td>...</td>\n",
       "      <td>423.719798</td>\n",
       "      <td>475.0</td>\n",
       "      <td>523.328065</td>\n",
       "      <td>80.270569</td>\n",
       "      <td>17.3</td>\n",
       "      <td>1494399.0</td>\n",
       "      <td>55.928772</td>\n",
       "      <td>1366.8</td>\n",
       "      <td>244.8</td>\n",
       "      <td>4.3</td>\n",
       "    </tr>\n",
       "    <tr>\n",
       "      <th>63</th>\n",
       "      <td>1266.3</td>\n",
       "      <td>1253.7</td>\n",
       "      <td>1260.0</td>\n",
       "      <td>1285.4</td>\n",
       "      <td>1215.7</td>\n",
       "      <td>1260.0</td>\n",
       "      <td>1229.4</td>\n",
       "      <td>13981.0</td>\n",
       "      <td>2017-03-05</td>\n",
       "      <td>0.021508</td>\n",
       "      <td>...</td>\n",
       "      <td>423.719798</td>\n",
       "      <td>475.0</td>\n",
       "      <td>523.328065</td>\n",
       "      <td>80.270569</td>\n",
       "      <td>17.3</td>\n",
       "      <td>1494399.0</td>\n",
       "      <td>55.928772</td>\n",
       "      <td>1366.8</td>\n",
       "      <td>244.8</td>\n",
       "      <td>4.3</td>\n",
       "    </tr>\n",
       "    <tr>\n",
       "      <th>64</th>\n",
       "      <td>1293.5</td>\n",
       "      <td>1280.7</td>\n",
       "      <td>1287.1</td>\n",
       "      <td>1279.3</td>\n",
       "      <td>1259.5</td>\n",
       "      <td>1287.1</td>\n",
       "      <td>1260.0</td>\n",
       "      <td>2539.0</td>\n",
       "      <td>2017-03-06</td>\n",
       "      <td>-0.013130</td>\n",
       "      <td>...</td>\n",
       "      <td>423.719798</td>\n",
       "      <td>475.0</td>\n",
       "      <td>523.328065</td>\n",
       "      <td>80.270569</td>\n",
       "      <td>17.3</td>\n",
       "      <td>1494399.0</td>\n",
       "      <td>55.928772</td>\n",
       "      <td>1366.8</td>\n",
       "      <td>244.8</td>\n",
       "      <td>4.3</td>\n",
       "    </tr>\n",
       "  </tbody>\n",
       "</table>\n",
       "<p>5 rows × 2370 columns</p>\n",
       "</div>"
      ],
      "text/plain": [
       "    a_lag1  b_lag1  c_lag1  h_lag1  l_lag1  m_lag1  o_lag1   v_lag1  \\\n",
       "60  1193.7  1181.9  1187.8  1192.1  1181.5  1187.8  1181.9   2491.0   \n",
       "61  1193.7  1181.9  1187.8  1192.1  1181.5  1187.8  1181.9   2491.0   \n",
       "62  1235.5  1223.3  1229.4  1229.5  1190.7  1229.4  1187.8  10079.0   \n",
       "63  1266.3  1253.7  1260.0  1285.4  1215.7  1260.0  1229.4  13981.0   \n",
       "64  1293.5  1280.7  1287.1  1279.3  1259.5  1287.1  1260.0   2539.0   \n",
       "\n",
       "          date    return  ...  BALT524BP1FHSA_value  BALT524BPPRIV_value  \\\n",
       "60  2017-03-01  0.000000  ...            423.719798                475.0   \n",
       "61  2017-03-03  0.035023  ...            423.719798                475.0   \n",
       "62  2017-03-04  0.024890  ...            423.719798                475.0   \n",
       "63  2017-03-05  0.021508  ...            423.719798                475.0   \n",
       "64  2017-03-06 -0.013130  ...            423.719798                475.0   \n",
       "\n",
       "    BALT524BPPRIVSA_value  BALT524FIRE_value  BALT524INFON_value  \\\n",
       "60             523.328065          80.270569                17.3   \n",
       "61             523.328065          80.270569                17.3   \n",
       "62             523.328065          80.270569                17.3   \n",
       "63             523.328065          80.270569                17.3   \n",
       "64             523.328065          80.270569                17.3   \n",
       "\n",
       "    BALT524LF_value  BALT524MFG_value  BALT524NAN_value  BALT524TRADN_value  \\\n",
       "60        1494399.0         55.928772            1366.8               244.8   \n",
       "61        1494399.0         55.928772            1366.8               244.8   \n",
       "62        1494399.0         55.928772            1366.8               244.8   \n",
       "63        1494399.0         55.928772            1366.8               244.8   \n",
       "64        1494399.0         55.928772            1366.8               244.8   \n",
       "\n",
       "    BALT524UR_value  \n",
       "60              4.3  \n",
       "61              4.3  \n",
       "62              4.3  \n",
       "63              4.3  \n",
       "64              4.3  \n",
       "\n",
       "[5 rows x 2370 columns]"
      ]
     },
     "execution_count": 7,
     "metadata": {},
     "output_type": "execute_result"
    }
   ],
   "source": [
    "BTCUSD.head()"
   ]
  },
  {
   "cell_type": "code",
   "execution_count": 8,
   "id": "bdde43c0",
   "metadata": {},
   "outputs": [],
   "source": [
    "def bt(instrument, clf, pca, min_obs):\n",
    "    predictions = []\n",
    "    for i in range(len(instrument)):\n",
    "        if i + min_obs + 1 < len(instrument):\n",
    "            X_train = instrument[i:i + min_obs].drop(['date', 'return'], axis=1)\n",
    "            X_test = instrument[i + min_obs:i + min_obs + 1].drop(['date', 'return'], axis=1)\n",
    "\n",
    "            y_train =  instrument[i:i + min_obs]['return']\n",
    "            y_test =  instrument[i + min_obs:i + min_obs + 1]['return']\n",
    "\n",
    "            y_train = np.where(y_train >= 0, 1, 0)\n",
    "            y_test = np.where(y_test >= 0, 1, 0)\n",
    "            \n",
    "            pca.fit(X_train)\n",
    "            X_train = pca.transform(X_train)\n",
    "            X_test = pca.transform(X_test)\n",
    "\n",
    "            clf.fit(X_train, y_train)\n",
    "            y_pred = clf.predict(X_test)[0]\n",
    "            predictions.append(y_pred)\n",
    "            \n",
    "    return predictions"
   ]
  },
  {
   "cell_type": "code",
   "execution_count": 13,
   "id": "7d3554f6",
   "metadata": {
    "collapsed": true
   },
   "outputs": [
    {
     "name": "stdout",
     "output_type": "stream",
     "text": [
      "LGBMClassifier\n",
      "XGBClassifier\n",
      "LogisticRegression\n"
     ]
    },
    {
     "ename": "KeyboardInterrupt",
     "evalue": "",
     "output_type": "error",
     "traceback": [
      "\u001b[1;31m---------------------------------------------------------------------------\u001b[0m",
      "\u001b[1;31mKeyboardInterrupt\u001b[0m                         Traceback (most recent call last)",
      "Input \u001b[1;32mIn [13]\u001b[0m, in \u001b[0;36m<cell line: 30>\u001b[1;34m()\u001b[0m\n\u001b[0;32m     32\u001b[0m \u001b[38;5;28;01mfor\u001b[39;00m p \u001b[38;5;129;01min\u001b[39;00m np\u001b[38;5;241m.\u001b[39marange(\u001b[38;5;241m5\u001b[39m, \u001b[38;5;241m96\u001b[39m, \u001b[38;5;241m5\u001b[39m):\n\u001b[0;32m     33\u001b[0m     \u001b[38;5;28;01mfor\u001b[39;00m l \u001b[38;5;129;01min\u001b[39;00m \u001b[38;5;28mrange\u001b[39m(\u001b[38;5;241m30\u001b[39m, \u001b[38;5;241m90\u001b[39m \u001b[38;5;241m+\u001b[39m \u001b[38;5;241m1\u001b[39m):\n\u001b[1;32m---> 34\u001b[0m         predictions \u001b[38;5;241m=\u001b[39m \u001b[43mbt\u001b[49m\u001b[43m(\u001b[49m\u001b[43minstrument\u001b[49m\u001b[38;5;241;43m=\u001b[39;49m\u001b[43mBTCUSD\u001b[49m\u001b[43m,\u001b[49m\u001b[43m \u001b[49m\u001b[43mclf\u001b[49m\u001b[38;5;241;43m=\u001b[39;49m\u001b[43me\u001b[49m\u001b[43m,\u001b[49m\u001b[43m \u001b[49m\u001b[43mpca\u001b[49m\u001b[38;5;241;43m=\u001b[39;49m\u001b[43mPCA\u001b[49m\u001b[43m(\u001b[49m\u001b[43m)\u001b[49m\u001b[43m,\u001b[49m\u001b[43m \u001b[49m\u001b[43mmin_obs\u001b[49m\u001b[38;5;241;43m=\u001b[39;49m\u001b[43ml\u001b[49m\u001b[43m)\u001b[49m\n\u001b[0;32m     35\u001b[0m         diff \u001b[38;5;241m=\u001b[39m \u001b[38;5;28mlen\u001b[39m(BTCUSD) \u001b[38;5;241m-\u001b[39m \u001b[38;5;28mlen\u001b[39m(predictions)\n\u001b[0;32m     36\u001b[0m         acc \u001b[38;5;241m=\u001b[39m (np\u001b[38;5;241m.\u001b[39mwhere(BTCUSD[diff:][\u001b[38;5;124m'\u001b[39m\u001b[38;5;124mreturn\u001b[39m\u001b[38;5;124m'\u001b[39m] \u001b[38;5;241m>\u001b[39m\u001b[38;5;241m=\u001b[39m \u001b[38;5;241m0\u001b[39m, \u001b[38;5;241m1\u001b[39m, \u001b[38;5;241m0\u001b[39m) \u001b[38;5;241m==\u001b[39m predictions)\u001b[38;5;241m.\u001b[39mmean()\n",
      "Input \u001b[1;32mIn [9]\u001b[0m, in \u001b[0;36mbt\u001b[1;34m(instrument, clf, pca, min_obs)\u001b[0m\n\u001b[0;32m     12\u001b[0m y_test \u001b[38;5;241m=\u001b[39m np\u001b[38;5;241m.\u001b[39mwhere(y_test \u001b[38;5;241m>\u001b[39m\u001b[38;5;241m=\u001b[39m \u001b[38;5;241m0\u001b[39m, \u001b[38;5;241m1\u001b[39m, \u001b[38;5;241m0\u001b[39m)\n\u001b[0;32m     14\u001b[0m pca\u001b[38;5;241m.\u001b[39mfit(X_train)\n\u001b[1;32m---> 15\u001b[0m X_train \u001b[38;5;241m=\u001b[39m \u001b[43mpca\u001b[49m\u001b[38;5;241;43m.\u001b[39;49m\u001b[43mtransform\u001b[49m\u001b[43m(\u001b[49m\u001b[43mX_train\u001b[49m\u001b[43m)\u001b[49m\n\u001b[0;32m     16\u001b[0m X_test \u001b[38;5;241m=\u001b[39m pca\u001b[38;5;241m.\u001b[39mtransform(X_test)\n\u001b[0;32m     18\u001b[0m clf\u001b[38;5;241m.\u001b[39mfit(X_train, y_train)\n",
      "File \u001b[1;32m~\\AppData\\Local\\Programs\\Python\\Python39\\lib\\site-packages\\sklearn\\decomposition\\_base.py:120\u001b[0m, in \u001b[0;36m_BasePCA.transform\u001b[1;34m(self, X)\u001b[0m\n\u001b[0;32m    101\u001b[0m \u001b[38;5;124;03m\"\"\"Apply dimensionality reduction to X.\u001b[39;00m\n\u001b[0;32m    102\u001b[0m \n\u001b[0;32m    103\u001b[0m \u001b[38;5;124;03mX is projected on the first principal components previously extracted\u001b[39;00m\n\u001b[1;32m   (...)\u001b[0m\n\u001b[0;32m    116\u001b[0m \u001b[38;5;124;03m    is the number of samples and `n_components` is the number of the components.\u001b[39;00m\n\u001b[0;32m    117\u001b[0m \u001b[38;5;124;03m\"\"\"\u001b[39;00m\n\u001b[0;32m    118\u001b[0m check_is_fitted(\u001b[38;5;28mself\u001b[39m)\n\u001b[1;32m--> 120\u001b[0m X \u001b[38;5;241m=\u001b[39m \u001b[38;5;28;43mself\u001b[39;49m\u001b[38;5;241;43m.\u001b[39;49m\u001b[43m_validate_data\u001b[49m\u001b[43m(\u001b[49m\u001b[43mX\u001b[49m\u001b[43m,\u001b[49m\u001b[43m \u001b[49m\u001b[43mdtype\u001b[49m\u001b[38;5;241;43m=\u001b[39;49m\u001b[43m[\u001b[49m\u001b[43mnp\u001b[49m\u001b[38;5;241;43m.\u001b[39;49m\u001b[43mfloat64\u001b[49m\u001b[43m,\u001b[49m\u001b[43m \u001b[49m\u001b[43mnp\u001b[49m\u001b[38;5;241;43m.\u001b[39;49m\u001b[43mfloat32\u001b[49m\u001b[43m]\u001b[49m\u001b[43m,\u001b[49m\u001b[43m \u001b[49m\u001b[43mreset\u001b[49m\u001b[38;5;241;43m=\u001b[39;49m\u001b[38;5;28;43;01mFalse\u001b[39;49;00m\u001b[43m)\u001b[49m\n\u001b[0;32m    121\u001b[0m \u001b[38;5;28;01mif\u001b[39;00m \u001b[38;5;28mself\u001b[39m\u001b[38;5;241m.\u001b[39mmean_ \u001b[38;5;129;01mis\u001b[39;00m \u001b[38;5;129;01mnot\u001b[39;00m \u001b[38;5;28;01mNone\u001b[39;00m:\n\u001b[0;32m    122\u001b[0m     X \u001b[38;5;241m=\u001b[39m X \u001b[38;5;241m-\u001b[39m \u001b[38;5;28mself\u001b[39m\u001b[38;5;241m.\u001b[39mmean_\n",
      "File \u001b[1;32m~\\AppData\\Local\\Programs\\Python\\Python39\\lib\\site-packages\\sklearn\\base.py:577\u001b[0m, in \u001b[0;36mBaseEstimator._validate_data\u001b[1;34m(self, X, y, reset, validate_separately, **check_params)\u001b[0m\n\u001b[0;32m    575\u001b[0m     \u001b[38;5;28;01mraise\u001b[39;00m \u001b[38;5;167;01mValueError\u001b[39;00m(\u001b[38;5;124m\"\u001b[39m\u001b[38;5;124mValidation should be done on X, y or both.\u001b[39m\u001b[38;5;124m\"\u001b[39m)\n\u001b[0;32m    576\u001b[0m \u001b[38;5;28;01melif\u001b[39;00m \u001b[38;5;129;01mnot\u001b[39;00m no_val_X \u001b[38;5;129;01mand\u001b[39;00m no_val_y:\n\u001b[1;32m--> 577\u001b[0m     X \u001b[38;5;241m=\u001b[39m check_array(X, input_name\u001b[38;5;241m=\u001b[39m\u001b[38;5;124m\"\u001b[39m\u001b[38;5;124mX\u001b[39m\u001b[38;5;124m\"\u001b[39m, \u001b[38;5;241m*\u001b[39m\u001b[38;5;241m*\u001b[39mcheck_params)\n\u001b[0;32m    578\u001b[0m     out \u001b[38;5;241m=\u001b[39m X\n\u001b[0;32m    579\u001b[0m \u001b[38;5;28;01melif\u001b[39;00m no_val_X \u001b[38;5;129;01mand\u001b[39;00m \u001b[38;5;129;01mnot\u001b[39;00m no_val_y:\n",
      "File \u001b[1;32m~\\AppData\\Local\\Programs\\Python\\Python39\\lib\\site-packages\\sklearn\\utils\\validation.py:899\u001b[0m, in \u001b[0;36mcheck_array\u001b[1;34m(array, accept_sparse, accept_large_sparse, dtype, order, copy, force_all_finite, ensure_2d, allow_nd, ensure_min_samples, ensure_min_features, estimator, input_name)\u001b[0m\n\u001b[0;32m    893\u001b[0m         \u001b[38;5;28;01mraise\u001b[39;00m \u001b[38;5;167;01mValueError\u001b[39;00m(\n\u001b[0;32m    894\u001b[0m             \u001b[38;5;124m\"\u001b[39m\u001b[38;5;124mFound array with dim \u001b[39m\u001b[38;5;132;01m%d\u001b[39;00m\u001b[38;5;124m. \u001b[39m\u001b[38;5;132;01m%s\u001b[39;00m\u001b[38;5;124m expected <= 2.\u001b[39m\u001b[38;5;124m\"\u001b[39m\n\u001b[0;32m    895\u001b[0m             \u001b[38;5;241m%\u001b[39m (array\u001b[38;5;241m.\u001b[39mndim, estimator_name)\n\u001b[0;32m    896\u001b[0m         )\n\u001b[0;32m    898\u001b[0m     \u001b[38;5;28;01mif\u001b[39;00m force_all_finite:\n\u001b[1;32m--> 899\u001b[0m         \u001b[43m_assert_all_finite\u001b[49m\u001b[43m(\u001b[49m\n\u001b[0;32m    900\u001b[0m \u001b[43m            \u001b[49m\u001b[43marray\u001b[49m\u001b[43m,\u001b[49m\n\u001b[0;32m    901\u001b[0m \u001b[43m            \u001b[49m\u001b[43minput_name\u001b[49m\u001b[38;5;241;43m=\u001b[39;49m\u001b[43minput_name\u001b[49m\u001b[43m,\u001b[49m\n\u001b[0;32m    902\u001b[0m \u001b[43m            \u001b[49m\u001b[43mestimator_name\u001b[49m\u001b[38;5;241;43m=\u001b[39;49m\u001b[43mestimator_name\u001b[49m\u001b[43m,\u001b[49m\n\u001b[0;32m    903\u001b[0m \u001b[43m            \u001b[49m\u001b[43mallow_nan\u001b[49m\u001b[38;5;241;43m=\u001b[39;49m\u001b[43mforce_all_finite\u001b[49m\u001b[43m \u001b[49m\u001b[38;5;241;43m==\u001b[39;49m\u001b[43m \u001b[49m\u001b[38;5;124;43m\"\u001b[39;49m\u001b[38;5;124;43mallow-nan\u001b[39;49m\u001b[38;5;124;43m\"\u001b[39;49m\u001b[43m,\u001b[49m\n\u001b[0;32m    904\u001b[0m \u001b[43m        \u001b[49m\u001b[43m)\u001b[49m\n\u001b[0;32m    906\u001b[0m \u001b[38;5;28;01mif\u001b[39;00m ensure_min_samples \u001b[38;5;241m>\u001b[39m \u001b[38;5;241m0\u001b[39m:\n\u001b[0;32m    907\u001b[0m     n_samples \u001b[38;5;241m=\u001b[39m _num_samples(array)\n",
      "File \u001b[1;32m~\\AppData\\Local\\Programs\\Python\\Python39\\lib\\site-packages\\sklearn\\utils\\validation.py:108\u001b[0m, in \u001b[0;36m_assert_all_finite\u001b[1;34m(X, allow_nan, msg_dtype, estimator_name, input_name)\u001b[0m\n\u001b[0;32m    103\u001b[0m \u001b[38;5;66;03m# First try an O(n) time, O(1) space solution for the common case that\u001b[39;00m\n\u001b[0;32m    104\u001b[0m \u001b[38;5;66;03m# everything is finite; fall back to O(n) space np.isfinite to prevent\u001b[39;00m\n\u001b[0;32m    105\u001b[0m \u001b[38;5;66;03m# false positives from overflow in sum method. The sum is also calculated\u001b[39;00m\n\u001b[0;32m    106\u001b[0m \u001b[38;5;66;03m# safely to reduce dtype induced overflows.\u001b[39;00m\n\u001b[0;32m    107\u001b[0m is_float \u001b[38;5;241m=\u001b[39m X\u001b[38;5;241m.\u001b[39mdtype\u001b[38;5;241m.\u001b[39mkind \u001b[38;5;129;01min\u001b[39;00m \u001b[38;5;124m\"\u001b[39m\u001b[38;5;124mfc\u001b[39m\u001b[38;5;124m\"\u001b[39m\n\u001b[1;32m--> 108\u001b[0m \u001b[38;5;28;01mif\u001b[39;00m is_float \u001b[38;5;129;01mand\u001b[39;00m (np\u001b[38;5;241m.\u001b[39misfinite(\u001b[43m_safe_accumulator_op\u001b[49m\u001b[43m(\u001b[49m\u001b[43mnp\u001b[49m\u001b[38;5;241;43m.\u001b[39;49m\u001b[43msum\u001b[49m\u001b[43m,\u001b[49m\u001b[43m \u001b[49m\u001b[43mX\u001b[49m\u001b[43m)\u001b[49m)):\n\u001b[0;32m    109\u001b[0m     \u001b[38;5;28;01mpass\u001b[39;00m\n\u001b[0;32m    110\u001b[0m \u001b[38;5;28;01melif\u001b[39;00m is_float:\n",
      "File \u001b[1;32m~\\AppData\\Local\\Programs\\Python\\Python39\\lib\\site-packages\\sklearn\\utils\\extmath.py:896\u001b[0m, in \u001b[0;36m_safe_accumulator_op\u001b[1;34m(op, x, *args, **kwargs)\u001b[0m\n\u001b[0;32m    894\u001b[0m     result \u001b[38;5;241m=\u001b[39m op(x, \u001b[38;5;241m*\u001b[39margs, \u001b[38;5;241m*\u001b[39m\u001b[38;5;241m*\u001b[39mkwargs, dtype\u001b[38;5;241m=\u001b[39mnp\u001b[38;5;241m.\u001b[39mfloat64)\n\u001b[0;32m    895\u001b[0m \u001b[38;5;28;01melse\u001b[39;00m:\n\u001b[1;32m--> 896\u001b[0m     result \u001b[38;5;241m=\u001b[39m op(x, \u001b[38;5;241m*\u001b[39margs, \u001b[38;5;241m*\u001b[39m\u001b[38;5;241m*\u001b[39mkwargs)\n\u001b[0;32m    897\u001b[0m \u001b[38;5;28;01mreturn\u001b[39;00m result\n",
      "File \u001b[1;32m<__array_function__ internals>:5\u001b[0m, in \u001b[0;36msum\u001b[1;34m(*args, **kwargs)\u001b[0m\n",
      "File \u001b[1;32m~\\AppData\\Local\\Programs\\Python\\Python39\\lib\\site-packages\\numpy\\core\\fromnumeric.py:2247\u001b[0m, in \u001b[0;36msum\u001b[1;34m(a, axis, dtype, out, keepdims, initial, where)\u001b[0m\n\u001b[0;32m   2244\u001b[0m         \u001b[38;5;28;01mreturn\u001b[39;00m out\n\u001b[0;32m   2245\u001b[0m     \u001b[38;5;28;01mreturn\u001b[39;00m res\n\u001b[1;32m-> 2247\u001b[0m \u001b[38;5;28;01mreturn\u001b[39;00m \u001b[43m_wrapreduction\u001b[49m\u001b[43m(\u001b[49m\u001b[43ma\u001b[49m\u001b[43m,\u001b[49m\u001b[43m \u001b[49m\u001b[43mnp\u001b[49m\u001b[38;5;241;43m.\u001b[39;49m\u001b[43madd\u001b[49m\u001b[43m,\u001b[49m\u001b[43m \u001b[49m\u001b[38;5;124;43m'\u001b[39;49m\u001b[38;5;124;43msum\u001b[39;49m\u001b[38;5;124;43m'\u001b[39;49m\u001b[43m,\u001b[49m\u001b[43m \u001b[49m\u001b[43maxis\u001b[49m\u001b[43m,\u001b[49m\u001b[43m \u001b[49m\u001b[43mdtype\u001b[49m\u001b[43m,\u001b[49m\u001b[43m \u001b[49m\u001b[43mout\u001b[49m\u001b[43m,\u001b[49m\u001b[43m \u001b[49m\u001b[43mkeepdims\u001b[49m\u001b[38;5;241;43m=\u001b[39;49m\u001b[43mkeepdims\u001b[49m\u001b[43m,\u001b[49m\n\u001b[0;32m   2248\u001b[0m \u001b[43m                      \u001b[49m\u001b[43minitial\u001b[49m\u001b[38;5;241;43m=\u001b[39;49m\u001b[43minitial\u001b[49m\u001b[43m,\u001b[49m\u001b[43m \u001b[49m\u001b[43mwhere\u001b[49m\u001b[38;5;241;43m=\u001b[39;49m\u001b[43mwhere\u001b[49m\u001b[43m)\u001b[49m\n",
      "File \u001b[1;32m~\\AppData\\Local\\Programs\\Python\\Python39\\lib\\site-packages\\numpy\\core\\fromnumeric.py:87\u001b[0m, in \u001b[0;36m_wrapreduction\u001b[1;34m(obj, ufunc, method, axis, dtype, out, **kwargs)\u001b[0m\n\u001b[0;32m     84\u001b[0m         \u001b[38;5;28;01melse\u001b[39;00m:\n\u001b[0;32m     85\u001b[0m             \u001b[38;5;28;01mreturn\u001b[39;00m reduction(axis\u001b[38;5;241m=\u001b[39maxis, out\u001b[38;5;241m=\u001b[39mout, \u001b[38;5;241m*\u001b[39m\u001b[38;5;241m*\u001b[39mpasskwargs)\n\u001b[1;32m---> 87\u001b[0m \u001b[38;5;28;01mreturn\u001b[39;00m ufunc\u001b[38;5;241m.\u001b[39mreduce(obj, axis, dtype, out, \u001b[38;5;241m*\u001b[39m\u001b[38;5;241m*\u001b[39mpasskwargs)\n",
      "\u001b[1;31mKeyboardInterrupt\u001b[0m: "
     ]
    }
   ],
   "source": [
    "symbols = []\n",
    "classifiers = []\n",
    "window_len = []\n",
    "pcas = []\n",
    "accuracies = []\n",
    "\n",
    "estimators = [\n",
    "    LGBMClassifier(n_jobs=-1), \n",
    "    XGBClassifier(use_label_encoder=False), \n",
    "    LogisticRegression(n_jobs=-1), \n",
    "    DecisionTreeClassifier(), \n",
    "    RandomForestClassifier(n_jobs=-1)\n",
    "]\n",
    "\n",
    "estimators_string = [\n",
    "    \"LGBMClassifier\", \n",
    "    \"XGBClassifier\", \n",
    "    \"LogisticRegression\", \n",
    "    \"DecisionTreeClassifier\", \n",
    "    \"RandomForestClassifier\"\n",
    "]\n",
    "\n",
    "decomposer = [\n",
    "    PCA(.95), PCA(.90), PCA(.85), PCA(.80), PCA(.75), PCA(.70), PCA(.65), PCA(.60), PCA(.55), PCA(.50), PCA(.45), PCA(.40),\n",
    "    KernelPCA(.95), KernelPCA(.90), KernelPCA(.85), KernelPCA(.80), KernelPCA(.75), KernelPCA(.70), KernelPCA(.65), \n",
    "    KernelPCA(.60), KernelPCA(.55), KernelPCA(.50), KernelPCA(.45), KernelPCA(.40)\n",
    "]\n",
    "\n",
    "\n",
    "for e, s in zip(estimators, estimators_string):\n",
    "    print(s)\n",
    "    for p in np.arange(5, 96, 5):\n",
    "        for l in range(30, 90 + 1):\n",
    "            predictions = bt(instrument=BTCUSD, clf=e, pca=PCA(p), min_obs=l)\n",
    "            diff = len(BTCUSD) - len(predictions)\n",
    "            acc = (np.where(BTCUSD[diff:]['return'] >= 0, 1, 0) == predictions).mean()\n",
    "            sharpe = (predictions * BTCUSD[diff:]['return']).mean() / (predictions * BTCUSD[diff:]['return']).std()\n",
    "\n",
    "            classifiers.append(s)\n",
    "            window_len.append(l)\n",
    "            pcas.append(p)\n",
    "            accuracies.append(acc)"
   ]
  },
  {
   "cell_type": "code",
   "execution_count": 9,
   "id": "8f619e8e",
   "metadata": {},
   "outputs": [
    {
     "name": "stdout",
     "output_type": "stream",
     "text": [
      "0.07575777431928114\n"
     ]
    }
   ],
   "source": [
    "predictions = bt(instrument=BTCUSD, clf=LGBMClassifier(n_jobs=-1), pca=PCA(10), min_obs=30)\n",
    "diff = len(BTCUSD) - len(predictions)\n",
    "acc = (np.where(BTCUSD[diff:]['return'] >= 0, 1, 0) == predictions).mean()\n",
    "gain = ((np.where(BTCUSD[diff:]['return'] >= 0, 1, 0) == predictions) * BTCUSD[diff:]['return']).sum()\n",
    "sharpe = (predictions * BTCUSD[diff:]['return']).mean() / (predictions * BTCUSD[diff:]['return']).std()\n",
    "print(sharpe)"
   ]
  },
  {
   "cell_type": "code",
   "execution_count": 10,
   "id": "e84d73fe",
   "metadata": {},
   "outputs": [
    {
     "data": {
      "text/plain": [
       "0.549963530269876"
      ]
     },
     "execution_count": 10,
     "metadata": {},
     "output_type": "execute_result"
    }
   ],
   "source": [
    "acc"
   ]
  },
  {
   "cell_type": "code",
   "execution_count": 15,
   "id": "a9b7b623",
   "metadata": {},
   "outputs": [
    {
     "data": {
      "text/plain": [
       "0.07871721830608487"
      ]
     },
     "execution_count": 15,
     "metadata": {},
     "output_type": "execute_result"
    }
   ],
   "source": [
    "BTCUSD[diff:]['return'].mean() / BTCUSD[diff:]['return'].std()"
   ]
  },
  {
   "cell_type": "code",
   "execution_count": null,
   "id": "58666bed",
   "metadata": {},
   "outputs": [],
   "source": [
    "# 7.516982474041943"
   ]
  },
  {
   "cell_type": "code",
   "execution_count": 87,
   "id": "46778792",
   "metadata": {},
   "outputs": [],
   "source": [
    "from sklearn.linear_model import Lasso"
   ]
  },
  {
   "cell_type": "code",
   "execution_count": 95,
   "id": "70739f59",
   "metadata": {},
   "outputs": [],
   "source": [
    "def bt2(instrument, clf, min_obs):\n",
    "    predictions = []\n",
    "    for i in range(len(instrument)):\n",
    "        if i + min_obs + 1 < len(instrument):\n",
    "            X_train = instrument[i:i + min_obs].drop(['date', 'return'], axis=1)\n",
    "            X_test = instrument[i + min_obs:i + min_obs + 1].drop(['date', 'return'], axis=1)\n",
    "\n",
    "            y_train =  instrument[i:i + min_obs]['return']\n",
    "            y_test =  instrument[i + min_obs:i + min_obs + 1]['return']\n",
    "\n",
    "            y_train = np.where(y_train >= 0, 1, 0)\n",
    "            y_test = np.where(y_test >= 0, 1, 0)\n",
    "\n",
    "            clf.fit(X_train, y_train)\n",
    "            y_pred = clf.predict(X_test)[0]\n",
    "            predictions.append(y_pred)\n",
    "            \n",
    "    return predictions"
   ]
  },
  {
   "cell_type": "code",
   "execution_count": 101,
   "id": "941bcc01",
   "metadata": {},
   "outputs": [
    {
     "name": "stdout",
     "output_type": "stream",
     "text": [
      "0.5025528811086798\n",
      "0.5200583515681984\n",
      "0.5229759299781181\n",
      "0.5251641137855579\n",
      "0.5215171407731582\n",
      "0.524434719183078\n",
      "0.524434719183078\n",
      "0.524434719183078\n",
      "0.5229759299781181\n",
      "0.5200583515681984\n"
     ]
    }
   ],
   "source": [
    "for p in range(1, 11):\n",
    "    predictions = bt(instrument=BTCUSD, clf=LogisticRegression(n_jobs=-1), pca=PCA(p), min_obs=30)\n",
    "    diff = len(BTCUSD) - len(predictions)\n",
    "    acc = (np.where(BTCUSD[diff:]['return'] >= 0, 1, 0) == predictions).mean()\n",
    "    gain = ((np.where(BTCUSD[diff:]['return'] >= 0, 1, 0) == predictions) * BTCUSD[diff:]['return']).sum()\n",
    "    print(acc)"
   ]
  }
 ],
 "metadata": {
  "kernelspec": {
   "display_name": "Python 3 (ipykernel)",
   "language": "python",
   "name": "python3"
  },
  "language_info": {
   "codemirror_mode": {
    "name": "ipython",
    "version": 3
   },
   "file_extension": ".py",
   "mimetype": "text/x-python",
   "name": "python",
   "nbconvert_exporter": "python",
   "pygments_lexer": "ipython3",
   "version": "3.9.7"
  }
 },
 "nbformat": 4,
 "nbformat_minor": 5
}
