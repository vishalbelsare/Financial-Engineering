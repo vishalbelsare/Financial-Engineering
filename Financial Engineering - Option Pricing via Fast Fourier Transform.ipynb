{
 "cells": [
  {
   "cell_type": "code",
   "execution_count": 1,
   "id": "34955b49",
   "metadata": {},
   "outputs": [],
   "source": [
    "import warnings\n",
    "warnings.filterwarnings(\"ignore\")\n",
    "\n",
    "import numpy as np\n",
    "import math\n",
    "import time"
   ]
  },
  {
   "cell_type": "code",
   "execution_count": 79,
   "id": "a6cca709",
   "metadata": {},
   "outputs": [],
   "source": [
    "# Fixed Parameters\n",
    "S0 = 100\n",
    "K = 80\n",
    "k = math.log(K)\n",
    "r = 0.05\n",
    "q = 0.01\n",
    "T = 1"
   ]
  },
  {
   "cell_type": "code",
   "execution_count": 3,
   "id": "6a7fb5cd",
   "metadata": {},
   "outputs": [],
   "source": [
    "# Parameters for FFT \n",
    "n = 12\n",
    "N = 2 ** n\n",
    "\n",
    "# Step-size\n",
    "eta = 0.25\n",
    "\n",
    "# Damping factor\n",
    "alpha = 1.5"
   ]
  },
  {
   "cell_type": "markdown",
   "id": "dd3a0ce9",
   "metadata": {},
   "source": [
    "### $\\lambda = \\frac{2 \\pi}{N \\eta}$"
   ]
  },
  {
   "cell_type": "code",
   "execution_count": null,
   "id": "6ae57e74",
   "metadata": {},
   "outputs": [],
   "source": [
    "# Step-size in log strike space\n",
    "lamda = (2 * math.pi / N) / eta"
   ]
  },
  {
   "cell_type": "markdown",
   "id": "1a8f0edc",
   "metadata": {},
   "source": [
    "### Two commom choices for beta:\n",
    "Middle of the range corresponds to at-the-money: set $\\beta = ln(S_0) - \\frac{N}{2}\\lambda $\n",
    "\n",
    "The first call corresponds to a specific strike $K$: set $\\beta = ln(K)$"
   ]
  },
  {
   "cell_type": "code",
   "execution_count": 4,
   "id": "21699557",
   "metadata": {},
   "outputs": [],
   "source": [
    "# Choice of beta\n",
    "# beta = np.log(S0) - N * lamda / 2\n",
    "beta = np.log(K)"
   ]
  },
  {
   "cell_type": "markdown",
   "id": "9f1d713d",
   "metadata": {},
   "source": [
    "### GeometricBrownianMotion\n",
    "### $\\phi(\\nu) = e^{i(lnS_0\\;+\\;(r\\;-\\;q\\;-\\;\\frac{\\sigma^2}{2})T)\\nu\\;-\\;\\frac{\\sigma^2 \\nu^2}{2}T}$"
   ]
  },
  {
   "cell_type": "code",
   "execution_count": 180,
   "id": "cec1b751",
   "metadata": {},
   "outputs": [],
   "source": [
    "class GeometricBrownianMotion:\n",
    "    def __init__(self):\n",
    "        pass\n",
    "    \n",
    "    def _characteristic_function(self, u, sig, S0, r, q, T):\n",
    "        mu = np.log(S0) + (r - q - sig ** 2 / 2) * T\n",
    "        a = sig * np.sqrt(T)\n",
    "        phi = np.exp(1j * mu * u - (a * u) ** 2 / 2)\n",
    "        \n",
    "        return phi\n",
    "    \n",
    "    def evaluate_integral(self, sigma, S0, K, r, q, T, alpha, eta):\n",
    "        discount_factor = math.exp(-r*T)\n",
    "\n",
    "        sum1 = 0\n",
    "        for j in range(N):\n",
    "            nuJ = j * eta\n",
    "            u = nuJ - (alpha + 1) * 1j\n",
    "            psi_nuJ = discount_factor * self._characteristic_function(u, sigma, S0, r, q, T) / ((alpha + 1j * nuJ) * (alpha + 1 + 1j * nuJ))\n",
    "\n",
    "            if j == 0:\n",
    "                wJ = eta / 2\n",
    "            else:\n",
    "                wJ = eta\n",
    "\n",
    "            sum1 += np.exp(-1j * nuJ * k) * psi_nuJ * wJ\n",
    "\n",
    "        cT_k = (np.exp(-alpha * k) / math.pi) * sum1\n",
    "\n",
    "        return np.real(cT_k)\n",
    "    \n",
    "    def fast_fourier_transform(self, sigma, S0, K, r, q, T, alpha, eta, n):\n",
    "        N = 2 ** n\n",
    "\n",
    "        # step-size in log strike space\n",
    "        lda = (2 * np.pi / N) / eta\n",
    "\n",
    "        #Choice of beta\n",
    "        #beta = np.log(S0)-N*lda/2\n",
    "        beta = np.log(K)\n",
    "\n",
    "        # forming vector x and strikes km for m=1,...,N\n",
    "        km = np.zeros((N))\n",
    "        xX = np.zeros((N))\n",
    "\n",
    "        discount_factor = math.exp(-r * T)\n",
    "\n",
    "        nuJ = np.arange(N) * eta\n",
    "        u = nuJ - (alpha + 1) * 1j\n",
    "        psi_nuJ = self._characteristic_function(u, sigma, S0, r, q, T) / ((alpha + 1j * nuJ) * (alpha + 1 + 1j * nuJ))\n",
    "\n",
    "        for j in range(N):  \n",
    "            km[j] = beta + j * lda\n",
    "            if j == 0:\n",
    "                wJ = eta / 2\n",
    "            else:\n",
    "                wJ = eta\n",
    "\n",
    "            xX[j] = np.exp(-1j * beta * nuJ[j]) * discount_factor * psi_nuJ[j] * wJ\n",
    "\n",
    "        yY = np.fft.fft(xX)\n",
    "        cT_km = np.zeros((N))  \n",
    "        for i in range(N):\n",
    "            multiplier = math.exp(-alpha * km[i]) / math.pi\n",
    "            cT_km[i] = multiplier * np.real(yY[i])\n",
    "        \n",
    "        cT_k = cT_km[0]\n",
    "        \n",
    "        return cT_k\n"
   ]
  },
  {
   "cell_type": "code",
   "execution_count": 177,
   "id": "9aecaf63",
   "metadata": {},
   "outputs": [],
   "source": [
    "sigma = 0.30"
   ]
  },
  {
   "cell_type": "code",
   "execution_count": 182,
   "id": "13e10258",
   "metadata": {},
   "outputs": [
    {
     "data": {
      "text/plain": [
       "25.614621075647143"
      ]
     },
     "execution_count": 182,
     "metadata": {},
     "output_type": "execute_result"
    }
   ],
   "source": [
    "gbm = GeometricBrownianMotion()\n",
    "gbm.evaluate_integral(sigma, S0, K, r, q, T, alpha, eta)"
   ]
  },
  {
   "cell_type": "code",
   "execution_count": 183,
   "id": "95dfcd62",
   "metadata": {},
   "outputs": [
    {
     "data": {
      "text/plain": [
       "25.614621075647126"
      ]
     },
     "execution_count": 183,
     "metadata": {},
     "output_type": "execute_result"
    }
   ],
   "source": [
    "gbm.fast_fourier_transform(sigma, S0, K, r, q, T, alpha, eta, n)"
   ]
  },
  {
   "cell_type": "markdown",
   "id": "2f901561",
   "metadata": {},
   "source": [
    "### Heston Stochastic Volitility Model\n",
    "### $\\phi(u) = \\frac{exp\\{ iu\\;lnS_0\\;+\\;iu(r\\;-\\;q)T + \\frac{\\kappa \\theta T(\\kappa\\;-\\;i\\rho \\sigma u)}{\\sigma^2} \\}}{(cosh\\frac{\\gamma T}{2} + \\frac{\\kappa\\;-\\;i \\rho \\sigma u}{\\gamma} sinh\\frac{\\gamma T}{2})^{\\frac{2 \\kappa \\theta}{\\sigma^2}}} \\times exp\\{ \\frac{-(u^2\\;+\\;iu)v_0}{\\gamma coth \\frac{\\gamma T}{2}\\;+\\;\\kappa\\;-\\;i\\rho \\sigma u} \\}$"
   ]
  },
  {
   "cell_type": "code",
   "execution_count": 246,
   "id": "cf773564",
   "metadata": {},
   "outputs": [],
   "source": [
    "class HestonStochasticVolitility:\n",
    "    def __init__(self):\n",
    "        pass\n",
    "    \n",
    "    def _characteristic_function(self, u, kappa, theta, sigma, rho, v0, S0, T):\n",
    "        tmp = (kappa - 1j * rho * sigma * u)\n",
    "        g = np.sqrt((sigma ** 2) * (u ** 2 + 1j * u) + tmp ** 2)\n",
    "        \n",
    "        pow1 = 2 * kappa * theta / (sigma ** 2)\n",
    "        \n",
    "        numer1 = (kappa * theta * T * tmp) / (sigma ** 2) + 1j * u * T * r + 1j * u * math.log(S0)\n",
    "        log_denum1 = pow1 * np.log(np.cosh(g * T / 2) + (tmp / g) * np.sinh(g * T / 2))\n",
    "        tmp2 = ((u * u + 1j * u) * v0) / (g / np.tanh(g * T / 2) + tmp)\n",
    "        log_phi = numer1 - log_denum1 - tmp2\n",
    "        phi = np.exp(log_phi)\n",
    "        \n",
    "        return phi\n",
    "    \n",
    "    def evaluate_integral(self, sigma, nu, theta, S0, K, r, q, T, alpha, eta):\n",
    "        discount_factor = math.exp(-r*T)\n",
    "\n",
    "        sum1 = 0\n",
    "        for j in range(N):\n",
    "            nuJ = j * eta\n",
    "            u = nuJ - (alpha + 1) * 1j\n",
    "            psi_nuJ = discount_factor * self._characteristic_function(u, kappa, theta, sigma, rho, v0, S0, T) / ((alpha + 1j * nuJ) * (alpha + 1 + 1j * nuJ))\n",
    "            \n",
    "            if j == 0:\n",
    "                wJ = eta / 2\n",
    "            else:\n",
    "                wJ = eta\n",
    "\n",
    "            sum1 += np.exp(-1j * nuJ * k) * psi_nuJ * wJ\n",
    "\n",
    "        cT_k = (np.exp(-alpha * k) / math.pi) * sum1\n",
    "\n",
    "        return np.real(cT_k)\n",
    "    \n",
    "    def fast_fourier_transform(self, sigma, nu, theta, S0, K, r, q, T, alpha, eta):\n",
    "        N = 2 ** n\n",
    "\n",
    "        # step-size in log strike space\n",
    "        lda = (2 * np.pi / N) / eta\n",
    "\n",
    "        #Choice of beta\n",
    "        #beta = np.log(S0) - N * lda / 2\n",
    "        beta = np.log(K)\n",
    "\n",
    "        # forming vector x and strikes km for m=1,...,N\n",
    "        km = np.zeros((N))\n",
    "        xX = np.zeros((N))\n",
    "\n",
    "        discount_factor = math.exp(-r * T)\n",
    "\n",
    "        nuJ = np.arange(N) * eta\n",
    "        u = nuJ - (alpha + 1) * 1j\n",
    "        psi_nuJ = self._characteristic_function(u, kappa, theta, sigma, rho, v0, S0, T) / ((alpha + 1j * nuJ) * (alpha + 1 + 1j * nuJ))\n",
    "\n",
    "        for j in range(N):  \n",
    "            km[j] = beta + j * lda\n",
    "            if j == 0:\n",
    "                wJ = eta / 2\n",
    "            else:\n",
    "                wJ = eta\n",
    "\n",
    "            xX[j] = np.exp(-1j * beta * nuJ[j]) * discount_factor * psi_nuJ[j] * wJ\n",
    "\n",
    "        yY = np.fft.fft(xX)\n",
    "        cT_km = np.zeros((N))  \n",
    "        for i in range(N):\n",
    "            multiplier = math.exp(-alpha * km[i]) / math.pi\n",
    "            cT_km[i] = multiplier * np.real(yY[i])\n",
    "\n",
    "        cT_k = cT_km[0]\n",
    "        \n",
    "        return cT_k\n",
    "    "
   ]
  },
  {
   "cell_type": "code",
   "execution_count": 247,
   "id": "7ab577e9",
   "metadata": {},
   "outputs": [],
   "source": [
    "kappa = 2.0\n",
    "theta = 0.05\n",
    "sigma = 0.30\n",
    "rho = -0.70\n",
    "v0 = 0.04\n",
    "u = 0 - (alpha + 1) * 1j\n",
    "T = 1"
   ]
  },
  {
   "cell_type": "code",
   "execution_count": 248,
   "id": "783b35fa",
   "metadata": {},
   "outputs": [
    {
     "data": {
      "text/plain": [
       "25.242801609252524"
      ]
     },
     "execution_count": 248,
     "metadata": {},
     "output_type": "execute_result"
    }
   ],
   "source": [
    "hsv = HestonStochasticVolitility()\n",
    "hsv.evaluate_integral(sigma, nu, theta, S0, K, r, q, T, alpha, eta)"
   ]
  },
  {
   "cell_type": "code",
   "execution_count": 249,
   "id": "dd441521",
   "metadata": {},
   "outputs": [
    {
     "data": {
      "text/plain": [
       "25.242801609252545"
      ]
     },
     "execution_count": 249,
     "metadata": {},
     "output_type": "execute_result"
    }
   ],
   "source": [
    "hsv.fast_fourier_transform(sigma, nu, theta, S0, K, r, q, T, alpha, eta)"
   ]
  },
  {
   "cell_type": "markdown",
   "id": "b9acda73",
   "metadata": {},
   "source": [
    "### Variance Gamma\n",
    "### $\\phi(u) = exp(iu(ln S_0\\;+\\;(r\\;-\\;q)T)) (\\frac{1}{1\\;-\\;iu\\theta \\nu\\;+\\;\\sigma^2u^2 \\nu / 2})^{\\frac{T}{\\nu}}$"
   ]
  },
  {
   "cell_type": "code",
   "execution_count": 250,
   "id": "495c25e1",
   "metadata": {},
   "outputs": [],
   "source": [
    "class VarianceGamma:\n",
    "    def __init__(self):\n",
    "        pass\n",
    "    \n",
    "    def _characteristic_function(self, u, sigma, nu, theta, S0, r, q, T):\n",
    "        if nu == 0:\n",
    "            mu = math.log(S0) + (r - q - theta - 0.5 * sigma ** 2) * T\n",
    "            phi  = math.exp(1j * u * mu) * math.exp((1j * theta * u - 0.5 * sigma ** 2 * u ** 2) * T)\n",
    "        else:\n",
    "            mu  = math.log(S0) + (r - q + math.log(1 - theta * nu - 0.5 * sigma ** 2 * nu) / nu) * T\n",
    "            phi = np.exp(1j * u * mu) * ((1 - 1j * nu * theta * u + 0.5 * nu * sigma ** 2 * u ** 2) ** (-T / nu))\n",
    "\n",
    "        return phi\n",
    "    \n",
    "    def evaluate_integral(self, sigma, nu, theta, S0, K, r, q, T, alpha, eta):\n",
    "        discount_factor = math.exp(-r * T)\n",
    "\n",
    "        sum1 = 0\n",
    "        for j in range(N):\n",
    "            nuJ = j * eta\n",
    "            u = nuJ - (alpha + 1) * 1j\n",
    "            psi_nuJ = discount_factor * self._characteristic_function(u, sigma, nu, theta, S0, r, q, T) / ((alpha + 1j * nuJ) * (alpha + 1 + 1j * nuJ))\n",
    "            \n",
    "            if j == 0:\n",
    "                wJ = eta / 2\n",
    "            else:\n",
    "                wJ = eta\n",
    "\n",
    "            sum1 += np.exp(-1j * nuJ * k) * psi_nuJ * wJ\n",
    "\n",
    "        cT_k = (np.exp(-alpha * k) / math.pi) * sum1\n",
    "\n",
    "        return np.real(cT_k)\n",
    "    \n",
    "    def fast_fourier_transform(self, sigma, nu, theta, S0, K, r, q, T, alpha, eta):\n",
    "        N = 2 ** n\n",
    "\n",
    "        # step-size in log strike space\n",
    "        lda = (2 * np.pi / N) / eta\n",
    "\n",
    "        #Choice of beta\n",
    "        #beta = np.log(S0)-N*lda/2\n",
    "        beta = np.log(K)\n",
    "\n",
    "        # forming vector x and strikes km for m=1,...,N\n",
    "        km = np.zeros((N))\n",
    "        xX = np.zeros((N))\n",
    "\n",
    "        discount_factor = math.exp(-r * T)\n",
    "\n",
    "        nuJ = np.arange(N) * eta\n",
    "        u = nuJ - (alpha + 1) * 1j\n",
    "\n",
    "        psi_nuJ = self._characteristic_function(u, sigma, nu, theta, S0, r, q, T) / ((alpha + 1j * nuJ) * (alpha + 1 + 1j * nuJ))\n",
    "\n",
    "        for j in range(N):  \n",
    "            km[j] = beta + j * lda\n",
    "            if j == 0:\n",
    "                wJ = eta / 2\n",
    "            else:\n",
    "                wJ = eta\n",
    "\n",
    "            xX[j] = np.exp(-1j * beta * nuJ[j]) * discount_factor * psi_nuJ[j] * wJ\n",
    "\n",
    "        yY = np.fft.fft(xX)\n",
    "        cT_km = np.zeros((N))  \n",
    "        for i in range(N):\n",
    "            multiplier = math.exp(-alpha * km[i]) / math.pi\n",
    "            cT_km[i] = multiplier * np.real(yY[i])\n",
    "\n",
    "        cT_k = cT_km[0]\n",
    "        \n",
    "        return cT_k\n"
   ]
  },
  {
   "cell_type": "code",
   "execution_count": 251,
   "id": "bbff1c66",
   "metadata": {},
   "outputs": [],
   "source": [
    "sigma = 0.3\n",
    "nu = 0.5\n",
    "theta = -0.4"
   ]
  },
  {
   "cell_type": "code",
   "execution_count": 252,
   "id": "e2809381",
   "metadata": {},
   "outputs": [
    {
     "data": {
      "text/plain": [
       "28.220281720017248"
      ]
     },
     "execution_count": 252,
     "metadata": {},
     "output_type": "execute_result"
    }
   ],
   "source": [
    "vg = VarianceGamma()\n",
    "vg.evaluate_integral(sigma, nu, theta, S0, K, r, q, T, alpha, eta)"
   ]
  },
  {
   "cell_type": "code",
   "execution_count": 253,
   "id": "d13d7aa3",
   "metadata": {},
   "outputs": [
    {
     "data": {
      "text/plain": [
       "28.220281720017212"
      ]
     },
     "execution_count": 253,
     "metadata": {},
     "output_type": "execute_result"
    }
   ],
   "source": [
    "vg.fast_fourier_transform(sigma, nu, theta, S0, K, r, q, T, alpha, eta)"
   ]
  },
  {
   "cell_type": "code",
   "execution_count": null,
   "id": "af308a99",
   "metadata": {},
   "outputs": [],
   "source": []
  }
 ],
 "metadata": {
  "kernelspec": {
   "display_name": "Python 3",
   "language": "python",
   "name": "python3"
  },
  "language_info": {
   "codemirror_mode": {
    "name": "ipython",
    "version": 3
   },
   "file_extension": ".py",
   "mimetype": "text/x-python",
   "name": "python",
   "nbconvert_exporter": "python",
   "pygments_lexer": "ipython3",
   "version": "3.8.8"
  }
 },
 "nbformat": 4,
 "nbformat_minor": 5
}
