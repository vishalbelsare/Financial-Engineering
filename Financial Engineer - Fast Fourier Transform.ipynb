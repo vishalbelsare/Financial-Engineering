{
 "cells": [
  {
   "cell_type": "code",
   "execution_count": 1,
   "id": "aeb9a1ce",
   "metadata": {},
   "outputs": [],
   "source": [
    "import numpy as np"
   ]
  },
  {
   "cell_type": "code",
   "execution_count": 2,
   "id": "2aab0ba7",
   "metadata": {},
   "outputs": [],
   "source": [
    "# An arbitrary vector Nx1 -- in our example 8x1\n",
    "\n",
    "N = 8\n",
    "x = np.array([\n",
    "    1.5+2.6j,\n",
    "    2.7+7.3j,\n",
    "    1.7+4.0j,\n",
    "    4.1+9.1j,\n",
    "    3.9+1.4j,\n",
    "    2.9+4.8j,\n",
    "    3.0+1.6j,\n",
    "    7.3+2.1j\n",
    "])"
   ]
  },
  {
   "cell_type": "markdown",
   "id": "432f4837",
   "metadata": {},
   "source": [
    "## Fast Forier Transform"
   ]
  },
  {
   "cell_type": "markdown",
   "id": "694ed79f",
   "metadata": {},
   "source": [
    "### Definition of Fast Fourier Transform\n",
    "\n",
    "\\begin{equation} \\omega(m) = \\overset{N}{\\sum_{j = 1}} e^{-i \\frac{2 \\pi}{N}(j - 1)(m - 1)} x(j) \\end{equation}\n",
    "\n",
    "where x(j) is a matrix"
   ]
  },
  {
   "cell_type": "code",
   "execution_count": 79,
   "id": "dbff09a9",
   "metadata": {},
   "outputs": [
    {
     "name": "stdout",
     "output_type": "stream",
     "text": [
      "CPU times: user 372 µs, sys: 57 µs, total: 429 µs\n",
      "Wall time: 383 µs\n"
     ]
    },
    {
     "data": {
      "text/plain": [
       "array([27.1       +32.9j       ,  8.83883476 +1.72218254j,\n",
       "        1.6        +4.2j       , -0.20380592 +5.48614357j,\n",
       "       -6.9       -13.7j       , -8.83883476 +3.27781746j,\n",
       "       -0.2        -7.4j       , -9.39619408 -5.68614357j])"
      ]
     },
     "execution_count": 79,
     "metadata": {},
     "output_type": "execute_result"
    }
   ],
   "source": [
    "%%time\n",
    "y = np.fft.fft(x)\n",
    "y"
   ]
  },
  {
   "cell_type": "code",
   "execution_count": 80,
   "id": "ee4910ac",
   "metadata": {},
   "outputs": [
    {
     "name": "stdout",
     "output_type": "stream",
     "text": [
      "CPU times: user 643 µs, sys: 79 µs, total: 722 µs\n",
      "Wall time: 662 µs\n"
     ]
    },
    {
     "data": {
      "text/plain": [
       "array([27.1       +32.9j       ,  8.83883476 +1.72218254j,\n",
       "        1.6        +4.2j       , -0.20380592 +5.48614357j,\n",
       "       -6.9       -13.7j       , -8.83883476 +3.27781746j,\n",
       "       -0.2        -7.4j       , -9.39619408 -5.68614357j])"
      ]
     },
     "execution_count": 80,
     "metadata": {},
     "output_type": "execute_result"
    }
   ],
   "source": [
    "%%time\n",
    "# Initiating two arrays to store results (Memory pre-allocation)\n",
    "yH = np.zeros(N, dtype=complex)\n",
    "jJ = np.zeros(N)\n",
    "\n",
    "for i in range(N):\n",
    "    jJ[i] = i\n",
    "    \n",
    "\"\"\" 1)\n",
    ">>> jJ\n",
    "array([0., 1., 2., 3., 4., 5., 6., 7.])\n",
    "\"\"\"\n",
    "    \n",
    "for m in range(N):\n",
    "    \"\"\" 2)\n",
    "    >>> m * jJ\n",
    "    0 * [0. 1. 2. 3. 4. 5. 6. 7.] = [0. 0. 0. 0. 0. 0. 0. 0.]\n",
    "    1 * [0. 1. 2. 3. 4. 5. 6. 7.] = [0. 1. 2. 3. 4. 5. 6. 7.]\n",
    "\n",
    "    ...\n",
    "\n",
    "    7 * [0. 1. 2. 3. 4. 5. 6. 7.] = [ 0.  7. 14. 21. 28. 35. 42. 49.]\n",
    "    \"\"\"\n",
    "    \n",
    "    yH[m] = np.sum(np.exp((-1j * 2.0 * np.pi / N) * m * jJ) * x)\n",
    "    \n",
    "yH"
   ]
  },
  {
   "cell_type": "markdown",
   "id": "42a3f96e",
   "metadata": {},
   "source": [
    "## Inverse Fast Forier Transform"
   ]
  },
  {
   "cell_type": "code",
   "execution_count": 68,
   "id": "dd6ee484",
   "metadata": {},
   "outputs": [
    {
     "name": "stdout",
     "output_type": "stream",
     "text": [
      "CPU times: user 300 µs, sys: 91 µs, total: 391 µs\n",
      "Wall time: 338 µs\n"
     ]
    },
    {
     "data": {
      "text/plain": [
       "array([1.5+2.6j, 2.7+7.3j, 1.7+4.j , 4.1+9.1j, 3.9+1.4j, 2.9+4.8j,\n",
       "       3. +1.6j, 7.3+2.1j])"
      ]
     },
     "execution_count": 68,
     "metadata": {},
     "output_type": "execute_result"
    }
   ],
   "source": [
    "%%time\n",
    "x = np.fft.ifft(y)\n",
    "x"
   ]
  },
  {
   "cell_type": "code",
   "execution_count": 69,
   "id": "231c9e63",
   "metadata": {},
   "outputs": [
    {
     "name": "stdout",
     "output_type": "stream",
     "text": [
      "CPU times: user 474 µs, sys: 54 µs, total: 528 µs\n",
      "Wall time: 489 µs\n"
     ]
    },
    {
     "data": {
      "text/plain": [
       "array([1.5+2.6j, 2.7+7.3j, 1.7+4.j , 4.1+9.1j, 3.9+1.4j, 2.9+4.8j,\n",
       "       3. +1.6j, 7.3+2.1j])"
      ]
     },
     "execution_count": 69,
     "metadata": {},
     "output_type": "execute_result"
    }
   ],
   "source": [
    "%%time\n",
    "# implemeting IFFT explicitly\n",
    "xH = np.zeros(N, dtype=complex) \n",
    "for m in range(N):\n",
    "    xH[m]= np.sum(np.exp((1j * 2.0 * np.pi / N) * m * jJ) * y) / N \n",
    "\n",
    "xH"
   ]
  },
  {
   "cell_type": "code",
   "execution_count": null,
   "id": "2dc2cbe8",
   "metadata": {},
   "outputs": [],
   "source": []
  }
 ],
 "metadata": {
  "kernelspec": {
   "display_name": "Python 3",
   "language": "python",
   "name": "python3"
  },
  "language_info": {
   "codemirror_mode": {
    "name": "ipython",
    "version": 3
   },
   "file_extension": ".py",
   "mimetype": "text/x-python",
   "name": "python",
   "nbconvert_exporter": "python",
   "pygments_lexer": "ipython3",
   "version": "3.8.8"
  }
 },
 "nbformat": 4,
 "nbformat_minor": 5
}
